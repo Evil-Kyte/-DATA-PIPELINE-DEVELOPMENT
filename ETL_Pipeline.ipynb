{
  "nbformat": 4,
  "nbformat_minor": 0,
  "metadata": {
    "colab": {
      "provenance": []
    },
    "kernelspec": {
      "name": "python3",
      "display_name": "Python 3"
    },
    "language_info": {
      "name": "python"
    }
  },
  "cells": [
    {
      "cell_type": "code",
      "source": [
        "# IMPORTS\n",
        "import pandas as pd\n",
        "import numpy as np\n",
        "from sklearn.preprocessing import StandardScaler, OneHotEncoder\n",
        "from sklearn.compose import ColumnTransformer\n",
        "from sklearn.pipeline import Pipeline\n",
        "from sklearn.impute import SimpleImputer\n",
        "import json # Added json import\n",
        "\n",
        "# FUNCTIONS\n",
        "def extract_data() -> pd.DataFrame:\n",
        "     data = {\n",
        "        'Name': ['John', 'Anna', 'Peter', 'Linda', np.nan],\n",
        "        'Age': [28, 22, np.nan, 32, 45],\n",
        "        'Gender': ['Male', 'Female', 'Male', np.nan, 'Female'],\n",
        "        'Salary': [50000, 60000, 52000, np.nan, 58000],\n",
        "        'Department': ['IT', 'HR', 'IT', 'Finance', 'HR']\n",
        "    }\n",
        "\n",
        "     df = pd.DataFrame(data)\n",
        "     print(\"✅ Data extracted successfully.\")\n",
        "     return df\n",
        "def transform_data(df: pd.DataFrame) -> pd.DataFrame:\n",
        "\n",
        "  #  Clean, preprocess, and transform the dataset using Scikit-learn pipelines.\n",
        "  # Define numeric and categorical columns\n",
        "    numeric_features = ['Age', 'Salary']\n",
        "    categorical_features = ['Gender', 'Department']\n",
        "\n",
        "    # Numeric transformer: impute missing values, scale\n",
        "    numeric_transformer = Pipeline(steps=[\n",
        "        ('imputer', SimpleImputer(strategy='mean')),\n",
        "        ('scaler', StandardScaler())\n",
        "    ])\n",
        "\n",
        "    # Categorical transformer: impute missing values, one-hot encode\n",
        "    categorical_transformer = Pipeline(steps=[\n",
        "        ('imputer', SimpleImputer(strategy='most_frequent')),\n",
        "        ('encoder', OneHotEncoder(handle_unknown='ignore'))\n",
        "    ])\n",
        "\n",
        "    # Combine transformations\n",
        "    preprocessor = ColumnTransformer(transformers=[\n",
        "        ('num', numeric_transformer, numeric_features),\n",
        "        ('cat', categorical_transformer, categorical_features)\n",
        "    ])\n",
        "\n",
        "    # Full ETL pipeline\n",
        "    etl_pipeline = Pipeline(steps=[('preprocessor', preprocessor)])\n",
        "\n",
        "    # Apply transformations\n",
        "    processed_data = etl_pipeline.fit_transform(df)\n",
        "\n",
        "    # Retrieve encoded column names\n",
        "    encoded_columns = etl_pipeline.named_steps['preprocessor'].transformers_[1][1] \\\n",
        "        .named_steps['encoder'].get_feature_names_out(categorical_features)\n",
        "\n",
        "    # Create processed DataFrame\n",
        "    processed_df = pd.DataFrame(\n",
        "        processed_data,\n",
        "        columns=list(numeric_features) + list(encoded_columns)\n",
        "    )\n",
        "\n",
        "    print(\"✅ Data transformed successfully.\")\n",
        "    return processed_df\n",
        "\n",
        "\n",
        "def load_data(processed_df: pd.DataFrame, file_name: str = \"processed_data.csv\"):\n",
        "\n",
        "    processed_df.to_csv(file_name, index=False)\n",
        "    print(f\"✅ Data loaded successfully and saved as '{file_name}'.\")\n",
        "\n",
        "# MAIN EXECUTION\n",
        "def main():\n",
        "\n",
        "    df = extract_data()\n",
        "    processed_df = transform_data(df)\n",
        "    load_data(processed_df)\n",
        "\n",
        "# Call the main function\n",
        "if __name__ == \"__main__\":\n",
        "    main()"
      ],
      "metadata": {
        "colab": {
          "base_uri": "https://localhost:8080/"
        },
        "id": "zb7N09AYljuB",
        "outputId": "68e0c1a4-990d-489f-b8c0-4161a5937c90"
      },
      "execution_count": 17,
      "outputs": [
        {
          "output_type": "stream",
          "name": "stdout",
          "text": [
            "✅ Data extracted successfully.\n",
            "✅ Data transformed successfully.\n",
            "✅ Data loaded successfully and saved as 'processed_data.csv'.\n"
          ]
        }
      ]
    }
  ]
}